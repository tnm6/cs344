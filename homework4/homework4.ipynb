{
 "nbformat": 4,
 "nbformat_minor": 2,
 "metadata": {
  "language_info": {
   "name": "python",
   "codemirror_mode": {
    "name": "ipython",
    "version": 3
   }
  },
  "orig_nbformat": 2,
  "file_extension": ".py",
  "mimetype": "text/x-python",
  "name": "python",
  "npconvert_exporter": "python",
  "pygments_lexer": "ipython3",
  "version": 3
 },
 "cells": [
  {
   "cell_type": "markdown",
   "metadata": {},
   "source": [
    "# Homework 4\n",
    "\n",
    "Neural network exercises for CS-344, Professor Keith Vander Linden, Calvin University.\n",
    "\n",
    "Answers by Nathan Meyer (tnm6)."
   ]
  },
  {
   "cell_type": "markdown",
   "metadata": {},
   "source": [
    "## 4.1\n",
    "\n",
    "Speculate on whether so-called \"deep\" neural networks will be another bust or really are a breakthrough for the foreseeable future."
   ]
  },
  {
   "cell_type": "markdown",
   "metadata": {},
   "source": [
    "### Response\n",
    "\n",
    "My belief is that neural networks are more of a breakthrough than a bust. While technology is destined to change, and so approaches to AI will surely evolve, machine learning and especially deep neural networks shift the paradigm so drastically. More importantly, they are conceptually scalable. This is because the extent to which these AIs can \"learn\" is conceptually infinite, like how bits in binary code can be built into infinitely complex computer systems. A super-intelligence AI could conceivably be built upon sub-models of neural networks dedicated to performing well in specific areas, extending the abilities that the AI can have. Since it is based on the way neurons in our brains learn, this is, at least abstractly, similar to how the human brain can learn complex processes.\n",
    "\n",
    "Take the work that is being done at Google. Translation was considered to be impossible to perform reliably until Google Brain was thrown at it, where performance improved at rates previously unseen before, particularly with complex performance metrics like the \"artistry\" of the language found in poems, etc. Similar work has been done with image classification. Functions like these are specific in and of themselves, but stacked or combined together, they can, perceivably, reach some manner of flexibility in actions performed like the human brain can. The extent to which this could scale is conceptually infinite.\n",
    "\n",
    "The problem is data. These concepts have been around for decades, but only now, with the advent of the internet, have there been datasets large enough to even begin to train neural networks to perform reliably in many areas (like translation). The limit, then, is not so much the conceptual limits of the AI design, but the resources required to \"feed\" the learning models. For now, that training data is highly dependent upon reliable human data entry. Further, training these networks are highly demanding upon hardware. However, while these two issues may limit the breadth of neural network AI for now, improvements in both of them in the future would correlate with greater performance in neural networks. Since hardware improvements are expected (for now), and streamlining or improving data entry may still be possible, I do not see why neural networks will not continue to be the way forward."
   ]
  },
  {
   "cell_type": "markdown",
   "metadata": {},
   "source": [
    "## 4.2\n",
    "\n",
    "Hand-compute a single, complete back-propagation cycle. Use the example network from class and compute the updated weight values for the first gradient descent iteration for the XOR example, i.e., [1, 1] → 0. Use the same initial weights we used in the class example but assume the identity function as the activation function (f(x) = x)."
   ]
  }
 ]
}