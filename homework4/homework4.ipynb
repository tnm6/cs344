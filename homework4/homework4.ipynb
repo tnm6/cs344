{
 "cells": [
  {
   "cell_type": "markdown",
   "metadata": {},
   "source": [
    "# Homework 4\n",
    "\n",
    "Neural network exercises for CS-344, Professor Keith Vander Linden, Calvin University.\n",
    "\n",
    "Answers by Nathan Meyer (tnm6)."
   ]
  },
  {
   "cell_type": "markdown",
   "metadata": {},
   "source": [
    "## 4.1\n",
    "\n",
    "Speculate on whether so-called \"deep\" neural networks will be another bust or really are a breakthrough for the foreseeable future."
   ]
  },
  {
   "cell_type": "markdown",
   "metadata": {},
   "source": [
    "### Response\n",
    "\n",
    "My belief is that neural networks are more of a breakthrough than a bust. While technology is destined to change, and so approaches to AI will surely evolve, machine learning and especially deep neural networks shift the paradigm so drastically. More importantly, they are conceptually scalable. This is because the extent to which these AIs can \"learn\" is conceptually infinite, like how bits in binary code can be built into infinitely complex computer systems. A super-intelligence AI could conceivably be built upon sub-models of neural networks dedicated to performing well in specific areas, extending the abilities that the AI can have. Since it is based on the way neurons in our brains learn, this is, at least abstractly, similar to how the human brain can learn complex processes.\n",
    "\n",
    "Take the work that is being done at Google. Translation was considered to be impossible to perform reliably until Google Brain was thrown at it, where performance improved at rates previously unseen before, particularly with complex performance metrics like the \"artistry\" of the language found in poems, etc. Similar work has been done with image classification. Functions like these are specific in and of themselves, but stacked or combined together, they can, perceivably, reach some manner of flexibility in actions performed like the human brain can. The extent to which this could scale is conceptually infinite.\n",
    "\n",
    "The problem is data. These concepts have been around for decades, but only now, with the advent of the internet, have there been datasets large enough to even begin to train neural networks to perform reliably in many areas (like translation). The limit, then, is not so much the conceptual limits of the AI design, but the resources required to \"feed\" the learning models. For now, that training data is highly dependent upon reliable human data entry. Further, training these networks are highly demanding upon hardware. However, while these two issues may limit the breadth of neural network AI for now, improvements in both of them in the future would correlate with greater performance in neural networks. Since hardware improvements are expected (for now), and streamlining or improving data entry may still be possible, I do not see why neural networks will not continue to be the way forward."
   ]
  },
  {
   "cell_type": "markdown",
   "metadata": {},
   "source": [
    "## 4.2\n",
    "\n",
    "Hand-compute a single, complete back-propagation cycle. Use the example network from class and compute the updated weight values for the first gradient descent iteration for the XOR example, i.e., [1, 1] → 0. Use the same initial weights we used in the class example but assume the identity function as the activation function (f(x) = x)."
   ]
  },
  {
   "cell_type": "markdown",
   "metadata": {},
   "source": [
    "### Computation\n",
    "\n",
    "1. Fill in random weights (same as class example).\n",
    "\n",
    "    $\\begin{aligned}\n",
    "    &\\begin{bmatrix}\n",
    "    w_{i_1,h_1} & w_{i_1,h_2} \\\\\n",
    "    w_{i_2,h_1} & w_{i_2,h_2}\n",
    "    \\end{bmatrix}\n",
    "    \\leftarrow\n",
    "    \\begin{bmatrix}\n",
    "    0.11 & 0.12 \\\\\n",
    "    0.21 & 0.08\n",
    "    \\end{bmatrix} \\\\\n",
    "    &\\begin{bmatrix}\n",
    "    w_{h_1, o_1} \\\\ \n",
    "    w_{h_2, o_1} \n",
    "    \\end{bmatrix}\n",
    "    \\leftarrow\n",
    "    \\begin{bmatrix}\n",
    "    0.14 \\\\\n",
    "    0.15\n",
    "    \\end{bmatrix}\n",
    "    \\end{aligned}$\n",
    "\n",
    "2. Compute the output for sample (XOR: `[1, 1]` &rarr; `0`)\n",
    "\n",
    "    $\\begin{aligned}\n",
    "    o_j &= \n",
    "    \\begin{bmatrix}\n",
    "    1 & 1 \\\\ \n",
    "    \\end{bmatrix}\n",
    "    \\cdot\n",
    "    \\begin{bmatrix}\n",
    "    0.11 & 0.12 \\\\\n",
    "    0.21 & 0.08\n",
    "    \\end{bmatrix}\n",
    "    \\cdot\n",
    "    \\begin{bmatrix}\n",
    "    0.14 \\\\\n",
    "    0.15\n",
    "    \\end{bmatrix}\n",
    "    \\\\ &=\n",
    "    \\begin{bmatrix}\n",
    "    1 * 0.11 + 1 * 0.21 & 1 * 0.12 + 1 * 0.08\n",
    "    \\end{bmatrix}\n",
    "    \\cdot\n",
    "    \\begin{bmatrix}\n",
    "    0.14 \\\\ \n",
    "    0.15\n",
    "    \\end{bmatrix}\n",
    "    \\\\ &=\n",
    "    \\begin{bmatrix}\n",
    "    0.32 & 0.20\n",
    "    \\end{bmatrix}\n",
    "    \\cdot\n",
    "    \\begin{bmatrix}\n",
    "    0.14 \\\\ \n",
    "    0.15 \n",
    "    \\end{bmatrix}\n",
    "    \\\\ &=\n",
    "    \\begin{bmatrix}\n",
    "    0.32 * 0.14 + 0.20 * 0.15\n",
    "    \\end{bmatrix}\n",
    "    \\\\ &= 0.0748\n",
    "    \\end{aligned}\n",
    "    \\\\\n",
    "    $\n",
    "\n",
    "3. Compute the error and delta.\n",
    "\n",
    "    $\\begin{aligned}\n",
    "    L_2Error &= (0 - 0.0748)^2 \\\\\n",
    "    &= 0.0056 \\\\\n",
    "    \\Delta_{o_1} &= (0 - 0.0748) \\\\\n",
    "    &= -0.0748 \\\\\n",
    "    \\end{aligned}$\n",
    "\n",
    "4. Back-propagate through the network, assuming:\n",
    "    $learning\\_rate = 0.05$; \n",
    "    Activation function `f(x) = x`.\n",
    "     \n",
    "    $\\begin{aligned}\n",
    "    \\begin{bmatrix}\n",
    "    w_{h_1, o_1} \\\\ \n",
    "    w_{h_2, o_1}\n",
    "    \\end{bmatrix} &\\leftarrow \n",
    "    \\begin{bmatrix}\n",
    "    0.14 \\\\ \n",
    "    0.15 \n",
    "    \\end{bmatrix} + 0.05 \\cdot \n",
    "    \\begin{bmatrix}\n",
    "    0.32 \\\\ \n",
    "    0.20\n",
    "    \\end{bmatrix} \\cdot 1.0 \\cdot -0.0748 \\\\\\\\\n",
    "    &= \n",
    "    \\begin{bmatrix}\n",
    "    0.14 \\\\ \n",
    "    0.15 \n",
    "    \\end{bmatrix} + \n",
    "    \\begin{bmatrix}\n",
    "    0.05 * 0.32 * 1.0 * -0.0748 \\\\\n",
    "    0.05 * 0.20 * 1.0 * -0.0748 \n",
    "    \\end{bmatrix} \\\\\n",
    "    &= \n",
    "    \\begin{bmatrix}\n",
    "    0.14 \\\\ \n",
    "    0.15 \n",
    "    \\end{bmatrix} +\n",
    "    \\begin{bmatrix}\n",
    "    -0.001197 \\\\\n",
    "    -0.000748\n",
    "    \\end{bmatrix} \\\\\n",
    "    &=\n",
    "    \\begin{bmatrix}\n",
    "    0.138803 \\\\ \n",
    "    0.149252\n",
    "    \\end{bmatrix}\n",
    "    \\end{aligned}$\n",
    "\n",
    "    $\\begin{aligned}\n",
    "    \\begin{bmatrix}\n",
    "    w_{i_1,h_1} & w_{i_1,h_2} \\\\ \n",
    "    w_{i_2,h_1} & w_{i_2,h_2}\n",
    "    \\end{bmatrix} &\\leftarrow \n",
    "    \\begin{bmatrix}\n",
    "    0.11 & 0.12 \\\\\n",
    "    0.21 & 0.08\n",
    "    \\end{bmatrix} + 0.05 \\cdot\n",
    "    \\begin{bmatrix}\n",
    "    1 & 1 \\\\ \n",
    "    1 & 1\n",
    "    \\end{bmatrix} \\cdot 1.0 \\odot\n",
    "    \\begin{bmatrix}\n",
    "    0.14 & 0.15 \\\\ \n",
    "    0.14 & 0.15\n",
    "    \\end{bmatrix} \\cdot -0.0748 \\\\ &=\n",
    "    \\begin{bmatrix}\n",
    "    0.11 & 0.12 \\\\\n",
    "    0.21 & 0.08\n",
    "    \\end{bmatrix} + \n",
    "    \\begin{bmatrix}\n",
    "    0.05 * 1 * 1.0 & 0.05 * 1 * 1.0 \\\\ \n",
    "    0.05 * 1 * 1.0 & 0.05 * 1 * 1.0 \\\\ \n",
    "    \\end{bmatrix} \\odot \n",
    "    \\begin{bmatrix}\n",
    "    0.14 * -0.0748 & 0.15 * -0.0748 \\\\ \n",
    "    0.14 * -0.0748 & 0.15 * -0.0748 \n",
    "    \\end{bmatrix} \\\\ &=\n",
    "    \\begin{bmatrix}\n",
    "    0.11 & 0.12 \\\\\n",
    "    0.21 & 0.08\n",
    "    \\end{bmatrix} + \n",
    "    \\begin{bmatrix}\n",
    "    0.05 & 0.05 \\\\ \n",
    "    0.05 & 0.05 \n",
    "    \\end{bmatrix} \\odot \n",
    "    \\begin{bmatrix}\n",
    "    -0.010472 & -0.01122 \\\\\n",
    "    -0.010472 & -0.01122\n",
    "    \\end{bmatrix} \\\\ &=\n",
    "    \\begin{bmatrix}\n",
    "    0.11 & 0.12 \\\\\n",
    "    0.21 & 0.08\n",
    "    \\end{bmatrix} + \n",
    "    \\begin{bmatrix}\n",
    "    0.05 * -0.010472 & 0.05 * -0.01122 \\\\\n",
    "    0.05 * -0.010472 & 0.05 * -0.01122\n",
    "    \\end{bmatrix} \\\\ &=\n",
    "    \\begin{bmatrix}\n",
    "    0.11 & 0.12 \\\\\n",
    "    0.21 & 0.08\n",
    "    \\end{bmatrix} +     \n",
    "    \\begin{bmatrix}\n",
    "    -0.000524 & -0.000561 \\\\\n",
    "    -0.000524 & -0.000561\n",
    "    \\end{bmatrix} \\\\ &= \n",
    "    \\begin{bmatrix}\n",
    "    0.109476 & 0.119439 \\\\\n",
    "    0.209476 & 0.079439\n",
    "    \\end{bmatrix}  \n",
    "    \\end{aligned}$\n",
    "    "
   ]
  },
  {
   "cell_type": "markdown",
   "metadata": {},
   "source": [
    "## 4.3\n",
    "\n",
    "Build a Keras-based ConvNet for Keras’s Fashion MNIST dataset (fashion_mnist). Experiment with different network architectures, submit your most performant network, and report the results."
   ]
  },
  {
   "cell_type": "markdown",
   "metadata": {},
   "source": [
    "### Configuration\n",
    "\n",
    "Prepare the data."
   ]
  },
  {
   "cell_type": "code",
   "execution_count": 1,
   "metadata": {},
   "outputs": [
    {
     "output_type": "stream",
     "name": "stderr",
     "text": "Using TensorFlow backend.\n"
    }
   ],
   "source": [
    "from keras.datasets import fashion_mnist\n",
    "from keras.utils import to_categorical\n",
    "\n",
    "(train_images, train_labels), (test_images, test_labels) = fashion_mnist.load_data()\n",
    "\n",
    "train_images = train_images.reshape((60000, 28, 28, 1))\n",
    "train_images = train_images.astype('float32') / 255\n",
    "\n",
    "test_images = test_images.reshape((10000, 28, 28, 1))\n",
    "test_images = test_images.astype('float32') / 255\n",
    "\n",
    "train_labels = to_categorical(train_labels)\n",
    "test_labels = to_categorical(test_labels)"
   ]
  },
  {
   "cell_type": "markdown",
   "metadata": {},
   "source": [
    "Configure the CNN model. Conv/Relu-Conv/Relu-MaxPooling * 2."
   ]
  },
  {
   "cell_type": "code",
   "execution_count": 3,
   "metadata": {},
   "outputs": [],
   "source": [
    "from keras import layers\n",
    "from keras import models\n",
    "\n",
    "model = models.Sequential()\n",
    "\n",
    "model.add(layers.Conv2D(32, (3, 3), activation='relu', input_shape=(28, 28, 1)))\n",
    "model.add(layers.Conv2D(32, (3, 3), activation='relu'))\n",
    "model.add(layers.MaxPooling2D((2, 2)))\n",
    "\n",
    "model.add(layers.Conv2D(64, (3, 3), activation='relu', input_shape=(28, 28, 1)))\n",
    "model.add(layers.Conv2D(64, (3, 3), activation='relu'))\n",
    "model.add(layers.MaxPooling2D((2, 2)))\n",
    "\n",
    "model.add(layers.Flatten())\n",
    "model.add(layers.Dense(512, activation='relu'))\n",
    "model.add(layers.Dense(10, activation='softmax'))"
   ]
  },
  {
   "cell_type": "markdown",
   "metadata": {},
   "source": [
    "Compile and train the model."
   ]
  },
  {
   "cell_type": "code",
   "execution_count": 6,
   "metadata": {},
   "outputs": [
    {
     "output_type": "stream",
     "name": "stdout",
     "text": "Train on 60000 samples, validate on 10000 samples\nEpoch 1/10\n60000/60000 [==============================] - 79s 1ms/step - loss: 0.3439 - acc: 0.8748 - val_loss: 0.2901 - val_acc: 0.8953\nEpoch 2/10\n60000/60000 [==============================] - 80s 1ms/step - loss: 0.2566 - acc: 0.9063 - val_loss: 0.2788 - val_acc: 0.8947\nEpoch 3/10\n60000/60000 [==============================] - 87s 1ms/step - loss: 0.2188 - acc: 0.9195 - val_loss: 0.2981 - val_acc: 0.8933\nEpoch 4/10\n60000/60000 [==============================] - 83s 1ms/step - loss: 0.1904 - acc: 0.9307 - val_loss: 0.2565 - val_acc: 0.9118\nEpoch 5/10\n60000/60000 [==============================] - 82s 1ms/step - loss: 0.1725 - acc: 0.9382 - val_loss: 0.2480 - val_acc: 0.9138\nEpoch 6/10\n60000/60000 [==============================] - 87s 1ms/step - loss: 0.1557 - acc: 0.9435 - val_loss: 0.2799 - val_acc: 0.9162\nEpoch 7/10\n60000/60000 [==============================] - 84s 1ms/step - loss: 0.1434 - acc: 0.9481 - val_loss: 0.2563 - val_acc: 0.9191\nEpoch 8/10\n60000/60000 [==============================] - 84s 1ms/step - loss: 0.1307 - acc: 0.9536 - val_loss: 0.2978 - val_acc: 0.9161\nEpoch 9/10\n60000/60000 [==============================] - 90s 2ms/step - loss: 0.1247 - acc: 0.9568 - val_loss: 0.3702 - val_acc: 0.9200\nEpoch 10/10\n60000/60000 [==============================] - 80s 1ms/step - loss: 0.1189 - acc: 0.9582 - val_loss: 0.3433 - val_acc: 0.9160\n10000/10000 [==============================] - 3s 272us/step\n"
    },
    {
     "output_type": "execute_result",
     "data": {
      "text/plain": "[0.3433183187291026, 0.916]"
     },
     "metadata": {},
     "execution_count": 6
    }
   ],
   "source": [
    "model.compile(optimizer='rmsprop',\n",
    "              loss='categorical_crossentropy',\n",
    "              metrics=['accuracy'])\n",
    "\n",
    "model.fit(train_images, train_labels,\n",
    "          epochs=10,\n",
    "          batch_size=64,\n",
    "          validation_data=(test_images, test_labels))\n",
    "\n",
    "model.evaluate(test_images, test_labels)"
   ]
  },
  {
   "cell_type": "markdown",
   "metadata": {},
   "source": [
    "### Results\n",
    "\n",
    "Reconfigured network with Conv-Relu-Conv-Relu-Pool produced highest test accuracy I could attain, which was 91.6%. There might be simpler configurations which can achieve this accuracy more quickly, but I was unable to get results higher than that for the test set."
   ]
  }
 ],
 "metadata": {
  "language_info": {
   "name": "python",
   "codemirror_mode": {
    "name": "ipython",
    "version": 3
   },
   "version": "3.7.7-final"
  },
  "orig_nbformat": 2,
  "file_extension": ".py",
  "mimetype": "text/x-python",
  "name": "python",
  "npconvert_exporter": "python",
  "pygments_lexer": "ipython3",
  "version": 3,
  "kernelspec": {
   "name": "python37664bitenvvenv964bff84c05a45e6adc7a8f890209e2c",
   "display_name": "Python 3.7.6 64-bit ('env': venv)"
  }
 },
 "nbformat": 4,
 "nbformat_minor": 2
}