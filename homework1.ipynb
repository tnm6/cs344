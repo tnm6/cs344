{
 "cells": [
  {
   "cell_type": "markdown",
   "execution_count": null,
   "metadata": {
    "collapsed": true
   },
   "outputs": [],
   "source": [
    "# Homework 1\n",
    "\n",
    "Implementations of Travelling Salesman and course scheduling problems for CS-344 by Professor Keith Vander Linden, Calvin University.\n",
    "\n",
    "Completed by Nathan Meyer, 2/29/2020."
   ]
  },
  {
   "cell_type": "markdown",
   "execution_count": null,
   "metadata": {},
   "outputs": [],
   "source": [
    "## 1.1\n",
    "\n",
    "Introspection might offer some uniquely intimate insights into reasoning, emotions, and responses of individuals. In that way, it might offer some insight into how that might be modeled in an AI. At the same time, as a part of one's own perception, it might be difficult to ascertain reliable and quantifiable details that could translate to a computing model.\n",
    "\n",
    "Furthermore, the reliability and accuracy of an individual's introspection could be problematic. What an individual perceives to be their mental processes may not be entirely accurate to what is really happening, and their perceptions could vary wildly from individual to individual. So modeling an AI on one person's perceptions of their mental processes might not only be inaccurate to how these processes really work, they might also be inconsistent with the processes of other individuals. "
   ]
  },
  {
   "cell_type": "markdown",
   "execution_count": null,
   "metadata": {},
   "outputs": [],
   "source": [
    "## 1.2\n",
    "\n",
    "Local search implementation of Travelling Salesman Problem based on these foundations:\n",
    "- States: Complete sequences of visiting each city and returning to the first, e.g. [0,1,2,3,4,0]\n",
    "- Actions: Swapping two cities in sequence of index i and j, e.g. [[1,2],[2,3],[3,4],...]\n",
    "- Result (transition): New state with cities swapped based on given action\n",
    "- Values (heuristics): Distance between two cities i and j\n"
   ]
  },
  {
   "cell_type": "code",
   "execution_count": null,
   "metadata": {},
   "outputs": [],
   "source": [
    "from search import Problem\n",
    "\n",
    "class TSP(Problem):\n",
    "    \"\"\"\n",
    "    State: sequence of visited cities\n",
    "    Actions: swap two cities in sequence of index i and j\n",
    "    Result: new sequence of sequences after action\n",
    "    Value: distance between two cities i and j\n",
    "    \"\"\"\n",
    "\n",
    "    def __init__(self, initial, distances):\n",
    "        self.initial = initial\n",
    "        self.distances = distances\n",
    "\n",
    "    def actions(self, state):\n",
    "        \"\"\"From a given state, return possible actions (swaps).\n",
    "        Actions include swapping any cities in the sequence between the\n",
    "        first and the last.\n",
    "        \"\"\"\n",
    "        actions = []\n",
    "\n",
    "        for i in range(1, len(state)-1):\n",
    "            for j in range(1, len(state)-1):\n",
    "                if i != j:\n",
    "                    actions.append((i, j))\n",
    "\n",
    "        return actions\n",
    "    \n",
    "    def result(self, state, action):\n",
    "        \"\"\"With given action, swap the cities and return resulting state\"\"\"\n",
    "        new_state = state[:]\n",
    "\n",
    "        # Gather cities from state at indeces given by action\n",
    "        swap1 = state[action[0]]\n",
    "        swap2 = state[action[1]]\n",
    "        # Swap those in new_state\n",
    "        new_state[action[0]] = swap2\n",
    "        new_state[action[1]] = swap1\n",
    "\n",
    "        return new_state\n",
    "\n",
    "    def value(self, state):\n",
    "        \"\"\"Computes and returns total distance travelled\n",
    "        as negative value, to function properly with algorithms\"\"\"\n",
    "        value = 0\n",
    "        for i in range(len(state)-1):\n",
    "            city1 = state[i]\n",
    "            city2 = state[i+1]\n",
    "            # Frozenset to evaluate distance regardless of order\n",
    "            value -= self.distances[frozenset((city1, city2))]\n",
    "\n",
    "        return value"
   ]
  },
  {
   "cell_type": "markdown",
   "execution_count": null,
   "metadata": {},
   "outputs": [],
   "source": [
    "With a set number of cities and set maximum distance between them, the following code generates a random sequence of numerical cities with a random starting/ending point (since it is a looping path). This is then fed into the hill-climbing and simulated-annealing algorithms."
   ]
  },
  {
   "cell_type": "code",
   "execution_count": null,
   "metadata": {},
   "outputs": [],
   "source": [
    "from search import hill_climbing, simulated_annealing, exp_schedule\n",
    "from random import randrange, shuffle\n",
    "import time\n",
    "\n",
    "cities = 10\n",
    "max_distance = 20\n",
    "\n",
    "# Generate initial sequence of cities\n",
    "initial = []\n",
    "for city in range(1, cities):\n",
    "    initial.append(city)\n",
    "shuffle(initial)\n",
    "# Make the initial state a loop by adding first city to last\n",
    "initial.append(initial[0])\n",
    "\n",
    "# Generate random distances between each city\n",
    "distances = {}\n",
    "\n",
    "for city1 in initial:\n",
    "    for city2 in initial:\n",
    "        if city1 != city2:  # frozensets to ensure no duplicates\n",
    "            distances[frozenset((city1, city2))] = randrange(1, max_distance)\n",
    "\n",
    "problem = TSP(initial, distances)\n",
    "\n",
    "time1 = time.time()\n",
    "hill_solution = hill_climbing(problem)\n",
    "time2 = time.time(\n",
    "print('Hill-climbing solution       x: ' + str(hill_solution)\n",
    "    + '\\tvalue: ' + str(-problem.value(hill_solution))\n",
    "    + \"\\t\\ttime: %0.3f seconds\" % (time2 - time1)\n",
    "    )\n",
    "\n"
   ]
  },
  {
   "cell_type": "markdown",
   "execution_count": null,
   "metadata": {},
   "outputs": [],
   "source": [
    "Make some parting comments on this problem."
   ]
  },
  {
   "cell_type": "markdown",
   "execution_count": null,
   "metadata": {},
   "outputs": [],
   "source": [
    "## 1.3\n",
    "\n",
    "Follow the same pattern for this problem."
   ]
  },
  {
   "cell_type": "code",
   "execution_count": null,
   "metadata": {
    "pycharm": {
     "is_executing": false
    }
   },
   "outputs": [],
   "source": [
    "print('Here\\'s yet more code.')"
   ]
  }
 ],
 "metadata": {
  "kernelspec": {
   "display_name": "Python 3",
   "language": "python",
   "name": "python3"
  },
  "language_info": {
   "codemirror_mode": {
    "name": "ipython",
    "version": 3
   },
   "file_extension": ".py",
   "mimetype": "text/x-python",
   "name": "python",
   "nbconvert_exporter": "python",
   "pygments_lexer": "ipython3",
   "version": "3.7.6-final"
  },
  "pycharm": {
   "stem_cell": {
    "cell_type": "raw",
    "source": [],
    "metadata": {
     "collapsed": false
    }
   }
  }
 },
 "nbformat": 4,
 "nbformat_minor": 1
}