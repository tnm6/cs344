{
 "cells": [
  {
   "cell_type": "code",
   "execution_count": 13,
   "metadata": {},
   "outputs": [],
   "source": [
    "import sqlite3 as sql\n",
    "import numpy as np\n",
    "from keras.preprocessing.text import Tokenizer\n",
    "from sklearn.preprocessing import LabelEncoder\n",
    "from sklearn.preprocessing import OneHotEncoder\n",
    "\n",
    "NUM_WORDS = 10000\n",
    "SEED = 113\n",
    "\n",
    "data = sql.connect(\"movie_lines.db\")\n",
    "cursor = data.cursor()"
   ]
  },
  {
   "cell_type": "markdown",
   "metadata": {},
   "source": [
    "## Gather data"
   ]
  },
  {
   "cell_type": "code",
   "execution_count": 14,
   "metadata": {
    "tags": [
     "outputPrepend"
    ]
   },
   "outputs": [],
   "source": [
    "cursor.execute(\"SELECT COUNT(movie_id) FROM movies\")\n",
    "count = cursor.fetchone()[0]\n",
    "\n",
    "movie_lines = []\n",
    "for i in range(count):\n",
    "    cursor.execute(\"SELECT line_text FROM lines WHERE movie_id = {}\".format(i))\n",
    "    lines = \"\"\n",
    "    lines = \" \".join([line[0] for line in cursor.fetchall()])\n",
    "    movie_lines.append(lines)\n",
    "    "
   ]
  },
  {
   "cell_type": "code",
   "execution_count": 19,
   "metadata": {},
   "outputs": [],
   "source": [
    "tokenizer = Tokenizer(num_words=NUM_WORDS, oov_token=\"<UNK>\")\n",
    "tokenizer.fit_on_texts(movie_lines)"
   ]
  },
  {
   "cell_type": "code",
   "execution_count": 20,
   "metadata": {
    "tags": [
     "outputPrepend"
    ]
   },
   "outputs": [],
   "source": [
    "data = np.array(tokenizer.texts_to_sequences(movie_lines))"
   ]
  },
  {
   "cell_type": "markdown",
   "metadata": {},
   "source": [
    "## Gather labels"
   ]
  },
  {
   "cell_type": "code",
   "execution_count": 15,
   "metadata": {},
   "outputs": [],
   "source": [
    "cursor.execute(\"SELECT name FROM genres\")\n",
    "all_genres = np.array([genre[0] for genre in cursor.fetchall()])\n",
    "\n",
    "label_encoder = LabelEncoder()\n",
    "genre_ints = label_encoder.fit_transform(all_genres)\n",
    "\n",
    "genre_dict = {}\n",
    "for i in range(len(all_genres)):\n",
    "    genre_dict[all_genres[i]] = genre_ints[i]"
   ]
  },
  {
   "cell_type": "code",
   "execution_count": null,
   "metadata": {},
   "outputs": [],
   "source": [
    "genre_dict"
   ]
  },
  {
   "cell_type": "code",
   "execution_count": 16,
   "metadata": {},
   "outputs": [],
   "source": [
    "movie_genres = []\n",
    "for i in range(count):\n",
    "    cursor.execute(\"\"\"\n",
    "        SELECT genres.name\n",
    "        FROM movies, genres, movie_genre_linking\n",
    "        WHERE movies.movie_id = movie_genre_linking.movie_id\n",
    "          AND genres.genre_id = movie_genre_linking.genre_id\n",
    "          AND movies.movie_id = {}\n",
    "        \"\"\".format(i))\n",
    "    genres = [genre[0] for genre in cursor.fetchall()]\n",
    "    movie_genres.append(genres)"
   ]
  },
  {
   "cell_type": "code",
   "execution_count": null,
   "metadata": {},
   "outputs": [],
   "source": [
    "movie_genres"
   ]
  },
  {
   "cell_type": "code",
   "execution_count": 17,
   "metadata": {},
   "outputs": [],
   "source": [
    "movie_genres_int = []\n",
    "for entry in movie_genres:\n",
    "    int_encoded = []\n",
    "    for genre in entry:\n",
    "        int_encoded.append(genre_dict[genre])\n",
    "    movie_genres_int.append(int_encoded)"
   ]
  },
  {
   "cell_type": "code",
   "execution_count": 18,
   "metadata": {},
   "outputs": [],
   "source": [
    "labels = np.array(movie_genres_int)"
   ]
  },
  {
   "cell_type": "markdown",
   "metadata": {},
   "source": [
    "## Randomize and Split"
   ]
  },
  {
   "cell_type": "code",
   "execution_count": 23,
   "metadata": {},
   "outputs": [],
   "source": [
    "# Based on keras.datasets.imdb implementation of shuffling\n",
    "np.random.seed(SEED)\n",
    "indices = np.arange(len(data))\n",
    "np.random.shuffle(indices)\n",
    "data = data[indices]\n",
    "labels = labels[indices]"
   ]
  },
  {
   "cell_type": "code",
   "execution_count": 24,
   "metadata": {},
   "outputs": [],
   "source": [
    "train_data = data[:462]\n",
    "train_labels = labels[:462]\n",
    "test_data = data[462:]\n",
    "test_labels = labels[462:]"
   ]
  },
  {
   "cell_type": "markdown",
   "metadata": {},
   "source": [
    "## One-Hot Encode"
   ]
  },
  {
   "cell_type": "code",
   "execution_count": null,
   "metadata": {},
   "outputs": [],
   "source": [
    "# From https://github.com/fchollet/deep-learning-with-python-notebooks/blob/master/3.5-classifying-movie-reviews.ipynb\n",
    "def vectorize_sequences(sequences, dimension=NUM_WORDS):\n",
    "    # Create an all-zero matrix of shape (len(sequences), dimension)\n",
    "    results = np.zeros((len(sequences), dimension))\n",
    "    for i, sequence in enumerate(sequences):\n",
    "        results[i, sequence] = 1.  # set specific indices of results[i] to 1s\n",
    "    return results\n",
    "\n",
    "x_train = vectorize_sequences(features)"
   ]
  }
 ],
 "metadata": {
  "language_info": {
   "codemirror_mode": {
    "name": "ipython",
    "version": 3
   },
   "file_extension": ".py",
   "mimetype": "text/x-python",
   "name": "python",
   "nbconvert_exporter": "python",
   "pygments_lexer": "ipython3",
   "version": "3.7.7-final"
  },
  "orig_nbformat": 2,
  "kernelspec": {
   "name": "python37664bitenvvenv964bff84c05a45e6adc7a8f890209e2c",
   "display_name": "Python 3.7.6 64-bit ('env': venv)"
  }
 },
 "nbformat": 4,
 "nbformat_minor": 2
}