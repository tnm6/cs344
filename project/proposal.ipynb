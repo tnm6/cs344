{
 "cells": [
  {
   "cell_type": "markdown",
   "metadata": {},
   "source": [
    "# Final Project Proposal\n",
    "\n",
    "By Nathan Meyer for CS-344: Artifical Intelligence by Professor Keith VanderLinden, Calvin University"
   ]
  },
  {
   "cell_type": "markdown",
   "metadata": {},
   "source": [
    "## Draft\n",
    "\n",
    "My project proposal involves identifying a film's genre based upon its dialogue. Using [this dataset](http://www.cs.cornell.edu/~cristian/Cornell_Movie-Dialogs_Corpus.html) and basing the implementation off of our class' IMDb movie reviews exercise, the formulation would involve a neural network with categorical classification of the probability of which movie genre(s) the film is in based upon its dialogue.\n",
    "\n",
    "My aim is to be able to, like in the reviews exercise, gather the number of occurrences of certain words in each film's dialog to train the model on which commonly-occurring words might indicate its genre(s). I suspect that this will involve a densely-connected neural network with one-hot-encoded tensors from the word-indeces of words occurring in the dialogue lines. Given that each line is recorded in the dataset, linked to movie IDs which includes genre in its metadata, formatting this data should be feasible through joins via Pandas/Numpy."
   ]
  }
 ],
 "metadata": {
  "language_info": {
   "codemirror_mode": {
    "name": "ipython",
    "version": 3
   },
   "file_extension": ".py",
   "mimetype": "text/x-python",
   "name": "python",
   "nbconvert_exporter": "python",
   "pygments_lexer": "ipython3",
   "version": 3
  },
  "orig_nbformat": 2
 },
 "nbformat": 4,
 "nbformat_minor": 2
}