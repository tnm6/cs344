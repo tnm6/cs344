{
 "nbformat": 4,
 "nbformat_minor": 2,
 "metadata": {
  "language_info": {
   "name": "python",
   "codemirror_mode": {
    "name": "ipython",
    "version": 3
   }
  },
  "orig_nbformat": 2,
  "file_extension": ".py",
  "mimetype": "text/x-python",
  "name": "python",
  "npconvert_exporter": "python",
  "pygments_lexer": "ipython3",
  "version": 3
 },
 "cells": [
  {
   "cell_type": "markdown",
   "metadata": {},
   "source": [
    "# Homework 3\n",
    "\n",
    "Regression exercises for CS-344, Professor Keith Vander Linden, Calvin University.\n",
    "\n",
    "Answers/solutions by Nathan Meyer (tnm6)."
   ]
  },
  {
   "cell_type": "markdown",
   "metadata": {},
   "source": [
    "## 3.1\n",
    "\n",
    "Computation of the information gain provided by using the price attribute as the root of the decision tree in the restaurant example."
   ]
  },
  {
   "cell_type": "markdown",
   "metadata": {},
   "source": [
    "### Computation\n",
    "\n",
    "```\n",
    "Gain(Price) = Entropy(WillWait?) - Remainder(Price)\n",
    "    Entropy(WillWait?) = 1.0\n",
    "    Remainder(Price) = 3/12*Entropy($$$) + 2/12*Entropy($$) + 7/12*Entropy($)\n",
    "        Entropy($$$) = -(1/3*lg(1/3) + 2/3*lg(2/3)) ~= 0.9183\n",
    "        Entropy($$)  = -(2/2*lg(2/2) + 0/2*lg(0/2)) ~= 0\n",
    "        Entropy($)   = -(3/7*lg(3/7) + 4/7*lg(4/7)) ~= 0.9852\n",
    "    = (3/12)*0.9183 + (2/12)*0 + (7/12)*0.9852 ~= 0.8043\n",
    "= 1.0 - 0.8043 ~= 0.1957\n",
    "```\n"
   ]
  },
  {
   "cell_type": "markdown",
   "metadata": {},
   "source": [
    "### Comparison to Type and Patrons\n",
    "\n",
    "Based on the information gain calculation for Price (0.1957 bits), it is greater gain than for Type (0 bits) but less gain than Patrons (0.541 bits)."
   ]
  }
 ]
}